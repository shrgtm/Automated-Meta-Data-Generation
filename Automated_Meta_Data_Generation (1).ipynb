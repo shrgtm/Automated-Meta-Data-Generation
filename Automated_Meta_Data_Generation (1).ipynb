{
  "nbformat": 4,
  "nbformat_minor": 0,
  "metadata": {
    "colab": {
      "provenance": []
    },
    "kernelspec": {
      "name": "python3",
      "display_name": "Python 3"
    },
    "language_info": {
      "name": "python"
    }
  },
  "cells": [
    {
      "cell_type": "code",
      "execution_count": 1,
      "metadata": {
        "colab": {
          "base_uri": "https://localhost:8080/"
        },
        "id": "JSZ_MX1V4q8d",
        "outputId": "25014f9f-15d1-4c61-b350-b7da9435f925"
      },
      "outputs": [
        {
          "output_type": "stream",
          "name": "stdout",
          "text": [
            "\u001b[2K     \u001b[90m━━━━━━━━━━━━━━━━━━━━━━━━━━━━━━━━━━━━━━━━\u001b[0m \u001b[32m42.8/42.8 kB\u001b[0m \u001b[31m1.1 MB/s\u001b[0m eta \u001b[36m0:00:00\u001b[0m\n",
            "\u001b[2K     \u001b[90m━━━━━━━━━━━━━━━━━━━━━━━━━━━━━━━━━━━━━━━━\u001b[0m \u001b[32m48.2/48.2 kB\u001b[0m \u001b[31m1.5 MB/s\u001b[0m eta \u001b[36m0:00:00\u001b[0m\n",
            "\u001b[2K   \u001b[90m━━━━━━━━━━━━━━━━━━━━━━━━━━━━━━━━━━━━━━━━\u001b[0m \u001b[32m60.0/60.0 kB\u001b[0m \u001b[31m1.2 MB/s\u001b[0m eta \u001b[36m0:00:00\u001b[0m\n",
            "\u001b[2K   \u001b[90m━━━━━━━━━━━━━━━━━━━━━━━━━━━━━━━━━━━━━━━━\u001b[0m \u001b[32m5.6/5.6 MB\u001b[0m \u001b[31m60.5 MB/s\u001b[0m eta \u001b[36m0:00:00\u001b[0m\n",
            "\u001b[2K   \u001b[90m━━━━━━━━━━━━━━━━━━━━━━━━━━━━━━━━━━━━━━━━\u001b[0m \u001b[32m253.0/253.0 kB\u001b[0m \u001b[31m12.1 MB/s\u001b[0m eta \u001b[36m0:00:00\u001b[0m\n",
            "\u001b[2K   \u001b[90m━━━━━━━━━━━━━━━━━━━━━━━━━━━━━━━━━━━━━━━━\u001b[0m \u001b[32m2.9/2.9 MB\u001b[0m \u001b[31m55.3 MB/s\u001b[0m eta \u001b[36m0:00:00\u001b[0m\n",
            "\u001b[?25hSelecting previously unselected package poppler-utils.\n",
            "(Reading database ... 126319 files and directories currently installed.)\n",
            "Preparing to unpack .../poppler-utils_22.02.0-2ubuntu0.8_amd64.deb ...\n",
            "Unpacking poppler-utils (22.02.0-2ubuntu0.8) ...\n",
            "Setting up poppler-utils (22.02.0-2ubuntu0.8) ...\n",
            "Processing triggers for man-db (2.10.2-1) ...\n"
          ]
        }
      ],
      "source": [
        "!pip install pdfplumber python-docx Pillow transformers -q\n",
        "!apt-get install -y poppler-utils tesseract-ocr -qq\n",
        "!pip install pytesseract -q\n",
        "\n"
      ]
    },
    {
      "cell_type": "code",
      "source": [
        "import pytesseract\n",
        "from PIL import Image\n",
        "import docx\n",
        "import pdfplumber\n",
        "import io\n",
        "import json\n",
        "import base64\n",
        "\n",
        "from transformers import pipeline\n",
        "from google.colab import files\n"
      ],
      "metadata": {
        "id": "tJASst525B8g"
      },
      "execution_count": null,
      "outputs": []
    },
    {
      "cell_type": "code",
      "source": [
        "summarizer = pipeline(\"summarization\", model=\"facebook/bart-large-cnn\")\n"
      ],
      "metadata": {
        "id": "EuLS4GN54yvC"
      },
      "execution_count": null,
      "outputs": []
    },
    {
      "cell_type": "markdown",
      "source": [],
      "metadata": {
        "id": "xBOpLyz4CD_e"
      }
    },
    {
      "cell_type": "code",
      "source": [
        "def extract_text(file_name, file_type):\n",
        "    if file_type == \".pdf\":\n",
        "        with pdfplumber.open(file_name) as pdf:\n",
        "            return \"\\n\".join([page.extract_text() or \"\" for page in pdf.pages])\n",
        "\n",
        "    elif file_type == \".docx\":\n",
        "        doc = docx.Document(file_name)\n",
        "        return \"\\n\".join([p.text for p in doc.paragraphs])\n",
        "\n",
        "    elif file_type in [\".png\", \".jpg\", \".jpeg\"]:\n",
        "        img = Image.open(file_name)\n",
        "        return pytesseract.image_to_string(img)\n",
        "\n",
        "    elif file_type == \".txt\":\n",
        "        with open(file_name, 'r', encoding=\"utf-8\") as f:\n",
        "            return f.read()\n",
        "\n",
        "    else:\n",
        "        return None\n"
      ],
      "metadata": {
        "id": "vsqCQOdn5Zd_"
      },
      "execution_count": null,
      "outputs": []
    },
    {
      "cell_type": "code",
      "source": [
        "def generate_metadata(text):\n",
        "    short_text = text[:3000]  # Reduce input for summarizer\n",
        "    summary = summarizer(short_text, max_length=120, min_length=30, do_sample=False)[0]['summary_text']\n",
        "    keywords = list(set(summary.lower().split()))\n",
        "\n",
        "    metadata = {\n",
        "        \"title\": summary.split('.')[0],\n",
        "        \"summary\": summary,\n",
        "        \"keywords\": keywords[:10],\n",
        "        \"author\": \"Unknown\",\n",
        "        \"date\": \"Unknown\"\n",
        "    }\n",
        "    return metadata\n"
      ],
      "metadata": {
        "id": "EB-Zbhgh5mm8"
      },
      "execution_count": null,
      "outputs": []
    },
    {
      "cell_type": "code",
      "source": [
        "uploaded = files.upload()\n",
        "file_name = list(uploaded.keys())[0]\n",
        "print(f\"📁 Uploaded: {file_name}\")\n",
        "\n",
        "\n",
        "\n"
      ],
      "metadata": {
        "id": "quI8KIeP5qKa"
      },
      "execution_count": null,
      "outputs": []
    },
    {
      "cell_type": "code",
      "source": [
        "import os\n",
        "\n",
        "if 'file_name' in globals():\n",
        "    if '.' in file_name:\n",
        "        name_parts = os.path.splitext(file_name)\n",
        "        if len(name_parts) == 2:\n",
        "            _, ext = name_parts\n",
        "            text = extract_text(file_name, ext.lower())\n",
        "\n",
        "            if not text or len(text.strip()) < 20:\n",
        "                print(\"❌ Could not extract enough text. Try another file.\")\n",
        "            else:\n",
        "                metadata = generate_metadata(text)\n",
        "                print(\"✅ Metadata Generated Successfully:\\n\")\n",
        "                print(json.dumps(metadata, indent=4))\n",
        "\n",
        "                # Save and download metadata\n",
        "                with open(\"metadata.json\", \"w\") as f:\n",
        "                    json.dump(metadata, f, indent=4)\n",
        "\n",
        "                files.download(\"metadata.json\")\n",
        "        else:\n",
        "            print(\"❌ File name does not have a valid extension.\")\n",
        "    else:\n",
        "        print(\"❌ File does not seem to have an extension.\")\n",
        "else:\n",
        "    print(\"❌ File was not uploaded correctly. Please re-upload.\")\n",
        "\n"
      ],
      "metadata": {
        "id": "y8Yjuxf95s4b"
      },
      "execution_count": null,
      "outputs": []
    },
    {
      "cell_type": "code",
      "source": [],
      "metadata": {
        "id": "dyzxBLZW7Z90"
      },
      "execution_count": null,
      "outputs": []
    }
  ]
}